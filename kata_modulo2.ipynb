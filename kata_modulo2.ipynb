{
 "cells": [
  {
   "cell_type": "markdown",
   "metadata": {},
   "source": [
    "# Creación de un entorno virtual\n",
    "\n",
    "Para crear un entorno virtual en python con la ayuda de VirtualEnv, vamos a realizar las siguientes instrucciones.\n",
    "\n",
    "- Dentro de nuestra carpeta del proyecto, abriremos la terminal y ejecutaremos: `python -m venv env`\n",
    "- Una vez que tengamos nuestro entorno virtual creado, debemos activarlo mediante terminal con `env/Scripts/activate`\n",
    "\n",
    "Ahora podemos instalar cualquier biblioteca y se mantendrán sólo para el proyecto actual, siempre y cuando, las instalemos mientras estamos en nuestro entorno virtual. En este caso si hacemos el uso de `pip freeze` tendremos la lista de bibliotecas dentro de nuestro entorno virtual.\n",
    "\n",
    "## Instalando una biblioteca\n",
    "\n",
    "Para realizar la instalación de una biblioteca, basta con usar `pip install`, por cuestiones de práctica instalaremos la biblioteca `python-dateutil`\n",
    "\n",
    "- En la terminal ejecutamos `pip install python-dateutil`\n",
    "- Nos retornará un mensaje de que la biblioteca se ha instalado correctamente.\n",
    "\n",
    "Si en este momento, ejecutamos `pip freeze` podremos encontrar la biblioteca que recien instalamos.\n",
    "\n",
    "```bash\n",
    "python-dateutil==2.8.2\n",
    "six==1.16.0\n",
    "```\n",
    "\n",
    "## Desactivar el entorno virtual\n",
    "\n",
    "Es muy posible que trabajemos en otros proyectos de python, así que debemos cambiar entre sus entornos virtuales, para no afectarlos, por ello, ejecutaremos el comando `deactivate` para desactivar nuestro entorno virtual actual.\n",
    "\n",
    "**Lo realizado en este módulo, se puede encontrar en el folder [kata_modulo2](kata_modulo2/readme.md)**\n"
   ]
  },
  {
   "cell_type": "markdown",
   "metadata": {},
   "source": [
    "Curso Propedéutico de Python para Launch X - Innovacción Virtual.\n",
    "\n",
    "**Explorer**: [Daniel Campos](https://www.github.com/giusniyyel)"
   ]
  }
 ],
 "metadata": {
  "language_info": {
   "name": "python"
  },
  "orig_nbformat": 4
 },
 "nbformat": 4,
 "nbformat_minor": 2
}
