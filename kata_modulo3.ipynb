{
 "cells": [
  {
   "cell_type": "markdown",
   "metadata": {},
   "source": [
    "# Ejercicio - Escribir declaraciones `if`, `else`, y `elif`\n",
    "\n",
    "## Un asteroide se acerca a la Tierra\n",
    "\n",
    "### Advertencia de un asteroide (`if` y `else`)\n",
    "\n",
    "Escribir una lógica condicional que imprima una advertencia si un asteroide se acerca a la Tierra demasiado rápido. La velocidad del asteroide varía dependiendo de lo cerca que esté del sol, y cualquier velocidad superior a 25 kilómetros por segundo (km/s) merece una advertencia."
   ]
  },
  {
   "cell_type": "code",
   "execution_count": 13,
   "metadata": {},
   "outputs": [
    {
     "name": "stdout",
     "output_type": "stream",
     "text": [
      "Un asteroide se acerca a la tierra con una velocidad de 29 km\\s ¡¡Corran!!\n"
     ]
    }
   ],
   "source": [
    "# Añadir el código necesario para crear una variable que guarde la velocidad del asteroide.\n",
    "asteroid_speed = 29\n",
    "alarming_asteroid_speed = 25\n",
    "\n",
    "# Escribe una expresión de prueba para calcular si necesita una advertencia.\n",
    "if asteroid_speed > alarming_asteroid_speed:\n",
    "    # Agregue las instrucciones que se ejecutarán si la expresión de prueba es true o false.\n",
    "    print(\"Un asteroide se acerca a la tierra con una velocidad de\",asteroid_speed,\"km\\s ¡¡Corran!!\")\n",
    "else:\n",
    "    print(\"Un asteroide se acerca a la tierra con una velocidad de\",asteroid_speed,\"km/s no hay porque temer\")"
   ]
  },
  {
   "cell_type": "markdown",
   "metadata": {},
   "source": [
    "### Los asteroides producen un rayo de luz (`if`, `elif` y `else`)\n",
    "\n",
    "Si un asteroide entra en la atmósfera de la Tierra a una velocidad mayor o igual a 20 km/s, a veces produce un rayo de luz que se puede ver desde la Tierra. Escribe la lógica condicional que usa declaraciones if, else, y elif para alertar a las personas de todo el mundo que deben buscar un asteroide en el cielo. ¡Hay uno que se dirige a la tierra ahora a una velocidad de 19 km/s!"
   ]
  },
  {
   "cell_type": "code",
   "execution_count": 7,
   "metadata": {},
   "outputs": [
    {
     "name": "stdout",
     "output_type": "stream",
     "text": [
      "El cielo se ve tan solitario...\n"
     ]
    }
   ],
   "source": [
    "# Agrega el código para crear una variable para un asteroide que viaja a 19 km/s\n",
    "asteroid_speed = 19\n",
    "lightning_asteroid_speed = 20\n",
    "\n",
    "# Escribe varias expresiones de prueba para determinar si puedes ver el rayo de luz desde la tierra\n",
    "if asteroid_speed > lightning_asteroid_speed: \n",
    "    # Agrega las instrucciones que se ejecutarán si las expresiones de prueba son True o False\n",
    "    print(\"¡Mira en el cielo, es el rayo de luz de un asteroide!\")\n",
    "elif asteroid_speed == lightning_asteroid_speed:\n",
    "    print(\"¡Mira en el cielo, es el rayo de luz de un asteroide!\")\n",
    "else:\n",
    "    print(\"El cielo se ve tan solitario...\")\n"
   ]
  },
  {
   "cell_type": "markdown",
   "metadata": {},
   "source": [
    "### Mejorando el sistema de advertencia de asteroides\n",
    "\n",
    "Para este ejercicio trabajaremos algo más complejo, debemos cumplir con las siguientes instrucciones:\n",
    "\n",
    "- Si una pieza de un asteroide que es más grande que 25 metros pero más pequeña que 1000 metros golpeara la Tierra, causaría mucho daño.\n",
    "- La velocidad del asteroide varía en función de lo cerca que esté del sol, y cualquier velocidad superior a 25 kilómetros por segundo (km/s) merece una advertencia.\n",
    "- Si un asteroide entra en la atmósfera de la Tierra a una velocidad mayor o igual a 20 km/s, a veces produce un rayo de luz que se puede ver desde la Tierra.\n",
    "- Los asteroides de menos de 25 metros en su dimensión más grande probablemente se quemarán a medida que entren en la atmósfera de la Tierra."
   ]
  },
  {
   "cell_type": "code",
   "execution_count": null,
   "metadata": {},
   "outputs": [],
   "source": [
    "# Agrega el código para crear nuevas variables para la velocidad y el tamaño del asteroide\n",
    "# Para probar el código, prueba con varias velocidades y tamaños\n",
    "asteroid_speed = 25\n",
    "asteroid_size = 40\n",
    "\n",
    "alarming_asteroid_size = 25\n",
    "\n",
    "alarming_asteroid_speed = 25\n",
    "lightning_asteroid_speed = 20\n",
    "\n",
    "# Escribe varias expresiones de prueba o combinaciones de expresiones de prueba para determinar qué mensaje se debe enviar a Tierra.\n",
    "if asteroid_size > alarming_asteroid_size and asteroid_speed > alarming_asteroid_speed:\n",
    "    print(\"Un asteroide muy peligroso se acerca a la tierra ¡¡Corran!!\")\n",
    "elif asteroid_speed >= 20:\n",
    "    print(\"¡Mira en el cielo, es el rayo de luz de un asteroide!\")\n",
    "elif asteroid_size > alarming_asteroid_size:\n",
    "    print(\"El cielo se ve tan solitario...\")\n",
    "else:\n",
    "    print(\"El cielo se ve tan solitario...\")"
   ]
  },
  {
   "cell_type": "markdown",
   "metadata": {},
   "source": [
    "Curso Propedéutico de Python para Launch X - Innovacción Virtual.\n",
    "\n",
    "**Explorer**: [Daniel Campos](https://www.github.com/giusniyyel)"
   ]
  }
 ],
 "metadata": {
  "interpreter": {
   "hash": "58c3f652f237fbc423a80f95d0100ee675845b28e6512ae35f5a44d14567e6cb"
  },
  "kernelspec": {
   "display_name": "Python 3.10.1 64-bit",
   "language": "python",
   "name": "python3"
  },
  "language_info": {
   "codemirror_mode": {
    "name": "ipython",
    "version": 3
   },
   "file_extension": ".py",
   "mimetype": "text/x-python",
   "name": "python",
   "nbconvert_exporter": "python",
   "pygments_lexer": "ipython3",
   "version": "3.10.1"
  },
  "orig_nbformat": 4
 },
 "nbformat": 4,
 "nbformat_minor": 2
}
