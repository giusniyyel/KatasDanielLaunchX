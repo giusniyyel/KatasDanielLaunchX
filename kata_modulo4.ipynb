{
 "cells": [
  {
   "cell_type": "markdown",
   "metadata": {},
   "source": [
    "# Ejercicio 1: Transformas cadenas\n",
    "\n",
    "En este ejercicio modificaré el texto con hechos sobre la luna y luego extraeré información para crear un breve resumen."
   ]
  },
  {
   "cell_type": "code",
   "execution_count": null,
   "metadata": {},
   "outputs": [],
   "source": [
    "# Texto a usar\n",
    "text = \"\"\"Interesting facts about the Moon. The Moon is Earth's only satellite. There are several interesting facts about the Moon and how it affects life here on Earth. \n",
    "On average, the Moon moves 4cm away from the Earth every year. This yearly drift is not significant enough to cause immediate effects on Earth. The highest daylight temperature of the Moon is 127 C.\"\"\"\n",
    "\n",
    "# Dividir el texto en cada oración para trabajar con su contenido.\n",
    "sentences = text.split('. ')\n",
    "\n",
    "# Define las palabras clave para búsqueda que ayudarán a determinar si una oración tiene un hecho. \n",
    "# Pista: average, temperature y distance suenan bien\n",
    "keywords = ['average', 'temperature', 'distance']\n",
    "\n",
    "# Crear un bucle que imprima los datos sobre la luna que estén relacionados con las palabras claves.\n",
    "for sentence in sentences:\n",
    "    for keyword in keywords:\n",
    "        if keyword in sentence:\n",
    "            print(sentence)\n",
    "            break\n",
    "\n",
    "# Actualiza el ciclo para cambiar C a Celsius:\n",
    "for sentence in sentences:\n",
    "    for keyword in keywords:\n",
    "        if keyword in sentence:\n",
    "            print(sentence.replace(' C', ' Celsius'))\n",
    "            break"
   ]
  },
  {
   "cell_type": "markdown",
   "metadata": {},
   "source": [
    "# Ejercicio 2: Formateando cadenas\n",
    "\n",
    "En este ejercicio, se van a utilizar diferentes variables que contienen datos clave sobre la gravedad en varias lunas y luego se utilizan para dar formato e imprimir la información. En lugar de reemplazar las variables en una cadena larga como parte de un párrafo, utiliza la información para presentarla en un formato tabular."
   ]
  },
  {
   "cell_type": "code",
   "execution_count": 9,
   "metadata": {},
   "outputs": [
    {
     "name": "stdout",
     "output_type": "stream",
     "text": [
      "Did You Know This About Moon?\n",
      "#-##-##-##-##-##-##-##-##-##-#\n",
      "Planet name: Earth\n",
      "Gravity on Moon: 1.6199999999999999 m/s2\n",
      "\n",
      "\n",
      "Did You Know This About Moon?\n",
      "#-##-##-##-##-##-##-##-##-##-#\n",
      "Planet name: Earth\n",
      "Gravity on Moon: 1.6199999999999999 m/s2\n",
      "\n",
      "\n",
      "\n",
      "Did you know this about: Marte\n",
      "#-#-#-#-#-#-#-#-#-#-#-#-#-#-#-#-#\n",
      "Planet Name: Ganímedes\n",
      "Gravity on Marte: 1.4300000000000002 m/s2\n",
      "\n"
     ]
    }
   ],
   "source": [
    "# Datos con los que trabajaremos\n",
    "name = 'Moon'\n",
    "gravity = 0.00162 # in kms\n",
    "planet = 'Earth'\n",
    "\n",
    "# Creamos un titulo para el texto sobre la gravedad en la tierra y la luna.\n",
    "text_title = f'Did you know this about {name}?'\n",
    "\n",
    "# Crear plantilla de cadena multilínea para contener el resto de la información. En lugar de usar kilómetros, \n",
    "# debo convertir la distancia a metros multiplicando por 1,000.\n",
    "text_body_template = f\"\"\"{'#-#'*10}\n",
    "Planet name: {planet}\n",
    "Gravity on {name}: {gravity * 1000} m/s2\n",
    "\"\"\"\n",
    "\n",
    "# Usaremos ambas variables para unir el título y los hechos\n",
    "text = f\"\"\"{text_title.title()}\n",
    "{text_body_template}\n",
    "\"\"\"\n",
    "\n",
    "print(text)\n",
    "\n",
    "# Nuevos datos con que trabajar\n",
    "name = 'Marte'\n",
    "gravity = 0.00143 # in kms\n",
    "planet = 'Ganímedes'\n",
    "\n",
    "# Mostramos la antigua plantilla con los nuevos datos\n",
    "print(text)\n",
    "\n",
    "# Nueva plantilla para contener la nueva información\n",
    "new_text_body_template = \"\"\"\n",
    "Did you know this about: {name}\n",
    "#-#-#-#-#-#-#-#-#-#-#-#-#-#-#-#-#\n",
    "Planet Name: {planet}\n",
    "Gravity on {name}: {gravity} m/s2\n",
    "\"\"\"\n",
    "\n",
    "# Mostramos la nueva plantilla con los nuevos datos\n",
    "print(new_text_body_template.format(name=name, planet=planet, gravity=gravity*1000))"
   ]
  },
  {
   "cell_type": "markdown",
   "metadata": {},
   "source": [
    "Curso Propedéutico de Python para Launch X - Innovacción Virtual.\n",
    "\n",
    "**Explorer**: [Daniel Campos](https://www.github.com/giusniyyel)"
   ]
  }
 ],
 "metadata": {
  "interpreter": {
   "hash": "58c3f652f237fbc423a80f95d0100ee675845b28e6512ae35f5a44d14567e6cb"
  },
  "kernelspec": {
   "display_name": "Python 3.10.1 64-bit",
   "language": "python",
   "name": "python3"
  },
  "language_info": {
   "codemirror_mode": {
    "name": "ipython",
    "version": 3
   },
   "file_extension": ".py",
   "mimetype": "text/x-python",
   "name": "python",
   "nbconvert_exporter": "python",
   "pygments_lexer": "ipython3",
   "version": "3.10.1"
  },
  "orig_nbformat": 4
 },
 "nbformat": 4,
 "nbformat_minor": 2
}
