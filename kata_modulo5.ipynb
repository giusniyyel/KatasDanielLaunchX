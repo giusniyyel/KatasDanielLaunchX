{
 "cells": [
  {
   "cell_type": "markdown",
   "metadata": {},
   "source": [
    "# Ejercicio 1: Utilizar operadores aritméticos\n",
    "\n",
    "En este ejercicio se realizará un programa que calcule la distancia entre dos planetas. Comenzando con los planetas tierra(149.597.870km) y Júpiter (778.547.200 km)."
   ]
  },
  {
   "cell_type": "code",
   "execution_count": 3,
   "metadata": {},
   "outputs": [
    {
     "name": "stdout",
     "output_type": "stream",
     "text": [
      "628949330\n",
      "390577533.93\n"
     ]
    }
   ],
   "source": [
    "# Crear variables para almacenar las dos distancias\n",
    "# ¡Asegúrate de quitar las comas!\n",
    "earth_planet_distance = 149597870\n",
    "jupiter_planet_distance = 778547200\n",
    "\n",
    "# Calcular la distancia entre planetas\n",
    "distance_between_planets_in_km = jupiter_planet_distance - earth_planet_distance\n",
    "print(distance_between_planets_in_km)\n",
    "\n",
    "# Convertir la distancia del kilómetro en millas multiplicando por 0.621\n",
    "distance_between_planets_in_mi = distance_between_planets_in_km * 0.621\n",
    "print(distance_between_planets_in_mi)"
   ]
  },
  {
   "cell_type": "markdown",
   "metadata": {},
   "source": [
    "# Ejercicio 2: Convierte cadenas en números y usa valores absolutos\n",
    "\n",
    "Primero se tiene que leer la distancia del sol para dos planetas, y luego mostrar la distancia entre los planetas."
   ]
  },
  {
   "cell_type": "code",
   "execution_count": 6,
   "metadata": {},
   "outputs": [
    {
     "name": "stdout",
     "output_type": "stream",
     "text": [
      "628949330\n",
      "390577533.93\n"
     ]
    }
   ],
   "source": [
    "# Almacenar las entradas del usuario\n",
    "#Pista: variable = input(\"¿Cuál es tu nombre?\")\n",
    "first_planet_distance = input(\"En KM ¿Cuál es la distancia del sol del primer planeta?\")\n",
    "second_planet_distance = input(\"En KM ¿Cuál es la distancia del sol del segundo planeta?\")\n",
    "\n",
    "# Convierte las cadenas de ambos planetas a números enteros\n",
    "first_planet_distance = int(first_planet_distance)\n",
    "second_planet_distance = int(second_planet_distance)\n",
    "\n",
    "# Realizar el cálculo y determinar el valor absoluto\n",
    "distance_between_planets_in_km = abs(first_planet_distance - second_planet_distance)\n",
    "print(distance_between_planets_in_km)\n",
    "\n",
    "# Convertir de KM a Millas\n",
    "distance_between_planets_in_mi = distance_between_planets_in_km * 0.621\n",
    "print(distance_between_planets_in_mi)"
   ]
  },
  {
   "cell_type": "markdown",
   "metadata": {},
   "source": [
    "Curso Propedéutico de Python para Launch X - Innovacción Virtual.\n",
    "\n",
    "**Explorer**: [Daniel Campos](https://www.github.com/giusniyyel)"
   ]
  }
 ],
 "metadata": {
  "interpreter": {
   "hash": "58c3f652f237fbc423a80f95d0100ee675845b28e6512ae35f5a44d14567e6cb"
  },
  "kernelspec": {
   "display_name": "Python 3.10.1 64-bit",
   "language": "python",
   "name": "python3"
  },
  "language_info": {
   "codemirror_mode": {
    "name": "ipython",
    "version": 3
   },
   "file_extension": ".py",
   "mimetype": "text/x-python",
   "name": "python",
   "nbconvert_exporter": "python",
   "pygments_lexer": "ipython3",
   "version": "3.10.1"
  },
  "orig_nbformat": 4
 },
 "nbformat": 4,
 "nbformat_minor": 2
}
