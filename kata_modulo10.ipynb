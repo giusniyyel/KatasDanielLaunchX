{
 "cells": [
  {
   "cell_type": "markdown",
   "metadata": {},
   "source": [
    "# Tracebacks\n",
    "\n",
    "Un traceback es el cuerpo del texto que apunta al origen y final de un error no controlado.\n",
    "\n",
    "### FileNotFoundError\n",
    "\n",
    "El archivo no existe o el directorio correspondiente"
   ]
  },
  {
   "cell_type": "code",
   "execution_count": 1,
   "metadata": {},
   "outputs": [
    {
     "ename": "FileNotFoundError",
     "evalue": "[Errno 2] No such file or directory: '/path/to/mars.jpg'",
     "output_type": "error",
     "traceback": [
      "\u001b[1;31m---------------------------------------------------------------------------\u001b[0m",
      "\u001b[1;31mFileNotFoundError\u001b[0m                         Traceback (most recent call last)",
      "\u001b[1;32me:\\Users\\giusniyyel\\Documents\\Workspace\\Innovaccion\\KatasDanielLaunchX-Onboarding\\kata_modulo10.ipynb Cell 2'\u001b[0m in \u001b[0;36m<module>\u001b[1;34m\u001b[0m\n\u001b[1;32m----> <a href='vscode-notebook-cell:/e%3A/Users/giusniyyel/Documents/Workspace/Innovaccion/KatasDanielLaunchX-Onboarding/kata_modulo10.ipynb#ch0000002?line=0'>1</a>\u001b[0m \u001b[39mopen\u001b[39;49m(\u001b[39m\"\u001b[39;49m\u001b[39m/path/to/mars.jpg\u001b[39;49m\u001b[39m\"\u001b[39;49m)\n",
      "\u001b[1;31mFileNotFoundError\u001b[0m: [Errno 2] No such file or directory: '/path/to/mars.jpg'"
     ]
    }
   ],
   "source": [
    "# Obteniendo un FileNotFoundError\n",
    "open(\"/path/to/mars.jpg\")"
   ]
  },
  {
   "cell_type": "markdown",
   "metadata": {},
   "source": [
    "Si ahora realizamos lo mismo desde el archivo [`open.py`](kata_modulo10/open.py), obtendremos un error similar a este:"
   ]
  },
  {
   "cell_type": "code",
   "execution_count": 3,
   "metadata": {},
   "outputs": [
    {
     "ename": "FileNotFoundError",
     "evalue": "[Errno 2] No such file or directory: '/path/to/mars.jpg'",
     "output_type": "error",
     "traceback": [
      "\u001b[1;31m---------------------------------------------------------------------------\u001b[0m",
      "\u001b[1;31mFileNotFoundError\u001b[0m                         Traceback (most recent call last)",
      "\u001b[1;32me:\\Users\\giusniyyel\\Documents\\Workspace\\Innovaccion\\KatasDanielLaunchX-Onboarding\\kata_modulo10.ipynb Cell 4'\u001b[0m in \u001b[0;36m<module>\u001b[1;34m\u001b[0m\n\u001b[0;32m      <a href='vscode-notebook-cell:/e%3A/Users/giusniyyel/Documents/Workspace/Innovaccion/KatasDanielLaunchX-Onboarding/kata_modulo10.ipynb#ch0000005?line=1'>2</a>\u001b[0m     \u001b[39mopen\u001b[39m(\u001b[39m\"\u001b[39m\u001b[39m/path/to/mars.jpg\u001b[39m\u001b[39m\"\u001b[39m)\n\u001b[0;32m      <a href='vscode-notebook-cell:/e%3A/Users/giusniyyel/Documents/Workspace/Innovaccion/KatasDanielLaunchX-Onboarding/kata_modulo10.ipynb#ch0000005?line=3'>4</a>\u001b[0m \u001b[39mif\u001b[39;00m \u001b[39m__name__\u001b[39m \u001b[39m==\u001b[39m \u001b[39m'\u001b[39m\u001b[39m__main__\u001b[39m\u001b[39m'\u001b[39m:\n\u001b[1;32m----> <a href='vscode-notebook-cell:/e%3A/Users/giusniyyel/Documents/Workspace/Innovaccion/KatasDanielLaunchX-Onboarding/kata_modulo10.ipynb#ch0000005?line=4'>5</a>\u001b[0m     main()\n",
      "\u001b[1;32me:\\Users\\giusniyyel\\Documents\\Workspace\\Innovaccion\\KatasDanielLaunchX-Onboarding\\kata_modulo10.ipynb Cell 4'\u001b[0m in \u001b[0;36mmain\u001b[1;34m()\u001b[0m\n\u001b[0;32m      <a href='vscode-notebook-cell:/e%3A/Users/giusniyyel/Documents/Workspace/Innovaccion/KatasDanielLaunchX-Onboarding/kata_modulo10.ipynb#ch0000005?line=0'>1</a>\u001b[0m \u001b[39mdef\u001b[39;00m \u001b[39mmain\u001b[39m():\n\u001b[1;32m----> <a href='vscode-notebook-cell:/e%3A/Users/giusniyyel/Documents/Workspace/Innovaccion/KatasDanielLaunchX-Onboarding/kata_modulo10.ipynb#ch0000005?line=1'>2</a>\u001b[0m     \u001b[39mopen\u001b[39;49m(\u001b[39m\"\u001b[39;49m\u001b[39m/path/to/mars.jpg\u001b[39;49m\u001b[39m\"\u001b[39;49m)\n",
      "\u001b[1;31mFileNotFoundError\u001b[0m: [Errno 2] No such file or directory: '/path/to/mars.jpg'"
     ]
    }
   ],
   "source": [
    "def main():\n",
    "    open(\"/path/to/mars.jpg\")\n",
    "\n",
    "if __name__ == '__main__':\n",
    "    main()"
   ]
  },
  {
   "cell_type": "markdown",
   "metadata": {},
   "source": [
    "## Controlar las excepciones\n",
    "\n",
    "Al encontrarnos con tracebacks, estos pueden llegar a ser muy largos, por lo que sería mejor detectar las excepciones pero que otros autores de llamadas puedan tratar los errores.\n",
    "\n",
    "### Try y Except\n",
    "\n",
    "Crear un código que abra archivos de configuración para la misión de Marte. Si un archivo o directorio no existe, se genera el `FileNotFoundError`. Esta excepción se puede controlar mediante el bloque try y except."
   ]
  },
  {
   "cell_type": "code",
   "execution_count": 4,
   "metadata": {},
   "outputs": [
    {
     "name": "stdout",
     "output_type": "stream",
     "text": [
      "No se pudo encontrar el archivo config.txt\n"
     ]
    }
   ],
   "source": [
    "try:\n",
    "    open('config.txt')\n",
    "except FileNotFoundError:\n",
    "    print('No se pudo encontrar el archivo config.txt')"
   ]
  },
  {
   "cell_type": "markdown",
   "metadata": {},
   "source": [
    "Los permisos de archivos no válidos también pueden impedir la lectura de un archivo, aunque este exista. Para ello crearemos el archivo [`config.py`](kata_modulo10/config.py) que se encargará de buscar y leer el archivo de configuración del sistema de navegación.\n",
    "\n",
    "En dado caso, de que los errores sean de una naturaleza similar y no es necesario controlarlos individualmente, podemos agrupar las excepciones como si fuera una, usando paréntesis. En este caso trabajaremos para detectar `BlockingIOError` y `TimeOutError` juntos en [`config.py`](kata_modulo10/config.py).\n",
    "\n",
    "**Acceder al error asociado**\n",
    "\n",
    "Si en dado caso se necesita acceder al error asociado a la excepción, debemos usar la palabra clave `as`."
   ]
  },
  {
   "cell_type": "code",
   "execution_count": 37,
   "metadata": {},
   "outputs": [
    {
     "name": "stdout",
     "output_type": "stream",
     "text": [
      "Tuve problemas para leer el archivo: [Errno 2] No such file or directory: '/path/to/mars.jpg'\n"
     ]
    }
   ],
   "source": [
    "def main():\n",
    "    try:\n",
    "        open(\"/path/to/mars.jpg\")\n",
    "    except FileNotFoundError as err:    \n",
    "        print('Tuve problemas para leer el archivo:', err)\n",
    "\n",
    "\n",
    "if __name__ == '__main__':\n",
    "    main()"
   ]
  },
  {
   "cell_type": "markdown",
   "metadata": {},
   "source": [
    "Esto se hace para poder acceder más allá del error, por ejemplo, especificar el error y manejarlo."
   ]
  },
  {
   "cell_type": "code",
   "execution_count": 38,
   "metadata": {},
   "outputs": [
    {
     "name": "stdout",
     "output_type": "stream",
     "text": [
      "No se pudo encontrar el archivo config.txt\n"
     ]
    }
   ],
   "source": [
    "def main():\n",
    "    try:\n",
    "        open(\"/path/to/mars.jpg\")\n",
    "    except FileNotFoundError as err:    \n",
    "        if err.errno == 2:\n",
    "            print('No se pudo encontrar el archivo config.txt')\n",
    "        elif err.errno == 13:\n",
    "            print(\"Se encontró config.txt pero no se puede leer\")\n",
    "\n",
    "\n",
    "if __name__ == '__main__':\n",
    "    main()"
   ]
  },
  {
   "cell_type": "markdown",
   "metadata": {},
   "source": [
    "## Generación de excepciones\n",
    "\n",
    "Cuando se conoce de alguna condición que podría generar error resulta útil generar excepciones que permitan que otro usuario comprenda cuál es el problema.\n",
    "\n",
    "### El agua de los astronautas\n",
    "\n",
    "Los astronautas limitan su uso de agua a unos 11 litros al día. Crearemos una función que, con base al número de astronautas, pueda calcular la cantidad de agua que quedará después de un día o más."
   ]
  },
  {
   "cell_type": "code",
   "execution_count": 39,
   "metadata": {},
   "outputs": [
    {
     "data": {
      "text/plain": [
       "'El total de agua restante después de 2 días es de: -10 litros'"
      ]
     },
     "execution_count": 39,
     "metadata": {},
     "output_type": "execute_result"
    }
   ],
   "source": [
    "def water_left(astronauts, water_left, days_left):\n",
    "    daily_usage = astronauts * 11\n",
    "    total_usage = daily_usage * days_left\n",
    "    total_water_left = water_left - total_usage\n",
    "    return f\"El total de agua restante después de {days_left} días es de: {total_water_left} litros\"\n",
    "\n",
    "\n",
    "# Probaremos con cinco astronautas, 100 litros de agua sobrante y dos días\n",
    "water_left(5, 100, 2)"
   ]
  },
  {
   "cell_type": "markdown",
   "metadata": {},
   "source": [
    "Esta función no es muy útil porque una carencia de agua debería ser un error, el sistema podría alertar a los astronautas que no habrá suficiente agua para todos en dos días. Para ello generaremos un excepción en la función que alerte de la condición de error."
   ]
  },
  {
   "cell_type": "code",
   "execution_count": 40,
   "metadata": {},
   "outputs": [
    {
     "ename": "RuntimeError",
     "evalue": "No habrá suficiente agua para 5 astronautas después de 2 días!",
     "output_type": "error",
     "traceback": [
      "\u001b[1;31m---------------------------------------------------------------------------\u001b[0m",
      "\u001b[1;31mRuntimeError\u001b[0m                              Traceback (most recent call last)",
      "\u001b[1;32me:\\Users\\giusniyyel\\Documents\\Workspace\\Innovaccion\\KatasDanielLaunchX-Onboarding\\kata_modulo10.ipynb Cell 14'\u001b[0m in \u001b[0;36m<module>\u001b[1;34m\u001b[0m\n\u001b[0;32m      <a href='vscode-notebook-cell:/e%3A/Users/giusniyyel/Documents/Workspace/Innovaccion/KatasDanielLaunchX-Onboarding/kata_modulo10.ipynb#ch0000022?line=6'>7</a>\u001b[0m     \u001b[39mreturn\u001b[39;00m \u001b[39mf\u001b[39m\u001b[39m\"\u001b[39m\u001b[39mEl total de agua restante después de \u001b[39m\u001b[39m{\u001b[39;00mdays_left\u001b[39m}\u001b[39;00m\u001b[39m días es de: \u001b[39m\u001b[39m{\u001b[39;00mtotal_water_left\u001b[39m}\u001b[39;00m\u001b[39m litros\u001b[39m\u001b[39m\"\u001b[39m\n\u001b[0;32m     <a href='vscode-notebook-cell:/e%3A/Users/giusniyyel/Documents/Workspace/Innovaccion/KatasDanielLaunchX-Onboarding/kata_modulo10.ipynb#ch0000022?line=9'>10</a>\u001b[0m \u001b[39m# Probaremos con cinco astronautas, 100 litros de agua sobrante y dos días\u001b[39;00m\n\u001b[1;32m---> <a href='vscode-notebook-cell:/e%3A/Users/giusniyyel/Documents/Workspace/Innovaccion/KatasDanielLaunchX-Onboarding/kata_modulo10.ipynb#ch0000022?line=10'>11</a>\u001b[0m water_left(\u001b[39m5\u001b[39;49m, \u001b[39m100\u001b[39;49m, \u001b[39m2\u001b[39;49m)\n",
      "\u001b[1;32me:\\Users\\giusniyyel\\Documents\\Workspace\\Innovaccion\\KatasDanielLaunchX-Onboarding\\kata_modulo10.ipynb Cell 14'\u001b[0m in \u001b[0;36mwater_left\u001b[1;34m(astronauts, water_left, days_left)\u001b[0m\n\u001b[0;32m      <a href='vscode-notebook-cell:/e%3A/Users/giusniyyel/Documents/Workspace/Innovaccion/KatasDanielLaunchX-Onboarding/kata_modulo10.ipynb#ch0000022?line=3'>4</a>\u001b[0m total_water_left \u001b[39m=\u001b[39m water_left \u001b[39m-\u001b[39m total_usage\n\u001b[0;32m      <a href='vscode-notebook-cell:/e%3A/Users/giusniyyel/Documents/Workspace/Innovaccion/KatasDanielLaunchX-Onboarding/kata_modulo10.ipynb#ch0000022?line=4'>5</a>\u001b[0m \u001b[39mif\u001b[39;00m total_water_left \u001b[39m<\u001b[39m \u001b[39m0\u001b[39m:\n\u001b[1;32m----> <a href='vscode-notebook-cell:/e%3A/Users/giusniyyel/Documents/Workspace/Innovaccion/KatasDanielLaunchX-Onboarding/kata_modulo10.ipynb#ch0000022?line=5'>6</a>\u001b[0m     \u001b[39mraise\u001b[39;00m \u001b[39mRuntimeError\u001b[39;00m(\u001b[39mf\u001b[39m\u001b[39m\"\u001b[39m\u001b[39mNo habrá suficiente agua para \u001b[39m\u001b[39m{\u001b[39;00mastronauts\u001b[39m}\u001b[39;00m\u001b[39m astronautas después de \u001b[39m\u001b[39m{\u001b[39;00mdays_left\u001b[39m}\u001b[39;00m\u001b[39m días!\u001b[39m\u001b[39m\"\u001b[39m)\n\u001b[0;32m      <a href='vscode-notebook-cell:/e%3A/Users/giusniyyel/Documents/Workspace/Innovaccion/KatasDanielLaunchX-Onboarding/kata_modulo10.ipynb#ch0000022?line=6'>7</a>\u001b[0m \u001b[39mreturn\u001b[39;00m \u001b[39mf\u001b[39m\u001b[39m\"\u001b[39m\u001b[39mEl total de agua restante después de \u001b[39m\u001b[39m{\u001b[39;00mdays_left\u001b[39m}\u001b[39;00m\u001b[39m días es de: \u001b[39m\u001b[39m{\u001b[39;00mtotal_water_left\u001b[39m}\u001b[39;00m\u001b[39m litros\u001b[39m\u001b[39m\"\u001b[39m\n",
      "\u001b[1;31mRuntimeError\u001b[0m: No habrá suficiente agua para 5 astronautas después de 2 días!"
     ]
    }
   ],
   "source": [
    "def water_left(astronauts, water_left, days_left):\n",
    "    daily_usage = astronauts * 11\n",
    "    total_usage = daily_usage * days_left\n",
    "    total_water_left = water_left - total_usage\n",
    "    if total_water_left < 0:\n",
    "        raise RuntimeError(f\"No habrá suficiente agua para {astronauts} astronautas después de {days_left} días!\")\n",
    "    return f\"El total de agua restante después de {days_left} días es de: {total_water_left} litros\"\n",
    "\n",
    "\n",
    "# Probaremos con cinco astronautas, 100 litros de agua sobrante y dos días\n",
    "water_left(5, 100, 2)"
   ]
  },
  {
   "cell_type": "markdown",
   "metadata": {},
   "source": [
    "Finalmente mejoraremos nuestro código para evitar el paso de tipos no admitidos usando TypeError pero con un mensaje mejor."
   ]
  },
  {
   "cell_type": "code",
   "execution_count": 41,
   "metadata": {},
   "outputs": [
    {
     "ename": "TypeError",
     "evalue": "Todos los argumentos deben ser enteros, pero se recibió: '3'",
     "output_type": "error",
     "traceback": [
      "\u001b[1;31m---------------------------------------------------------------------------\u001b[0m",
      "\u001b[1;31mTypeError\u001b[0m                                 Traceback (most recent call last)",
      "\u001b[1;32me:\\Users\\giusniyyel\\Documents\\Workspace\\Innovaccion\\KatasDanielLaunchX-Onboarding\\kata_modulo10.ipynb Cell 16'\u001b[0m in \u001b[0;36mwater_left\u001b[1;34m(astronauts, water_left, days_left)\u001b[0m\n\u001b[0;32m      <a href='vscode-notebook-cell:/e%3A/Users/giusniyyel/Documents/Workspace/Innovaccion/KatasDanielLaunchX-Onboarding/kata_modulo10.ipynb#ch0000024?line=2'>3</a>\u001b[0m \u001b[39mtry\u001b[39;00m:\n\u001b[0;32m      <a href='vscode-notebook-cell:/e%3A/Users/giusniyyel/Documents/Workspace/Innovaccion/KatasDanielLaunchX-Onboarding/kata_modulo10.ipynb#ch0000024?line=3'>4</a>\u001b[0m     \u001b[39m# If argument is an int, the following operation will work\u001b[39;00m\n\u001b[1;32m----> <a href='vscode-notebook-cell:/e%3A/Users/giusniyyel/Documents/Workspace/Innovaccion/KatasDanielLaunchX-Onboarding/kata_modulo10.ipynb#ch0000024?line=4'>5</a>\u001b[0m     argument \u001b[39m/\u001b[39;49m \u001b[39m10\u001b[39;49m\n\u001b[0;32m      <a href='vscode-notebook-cell:/e%3A/Users/giusniyyel/Documents/Workspace/Innovaccion/KatasDanielLaunchX-Onboarding/kata_modulo10.ipynb#ch0000024?line=5'>6</a>\u001b[0m \u001b[39mexcept\u001b[39;00m \u001b[39mTypeError\u001b[39;00m:\n\u001b[0;32m      <a href='vscode-notebook-cell:/e%3A/Users/giusniyyel/Documents/Workspace/Innovaccion/KatasDanielLaunchX-Onboarding/kata_modulo10.ipynb#ch0000024?line=6'>7</a>\u001b[0m     \u001b[39m# TypError will be raised only if it isn't the right type \u001b[39;00m\n\u001b[0;32m      <a href='vscode-notebook-cell:/e%3A/Users/giusniyyel/Documents/Workspace/Innovaccion/KatasDanielLaunchX-Onboarding/kata_modulo10.ipynb#ch0000024?line=7'>8</a>\u001b[0m     \u001b[39m# Raise the same exception but with a better error message\u001b[39;00m\n",
      "\u001b[1;31mTypeError\u001b[0m: unsupported operand type(s) for /: 'str' and 'int'",
      "\nDuring handling of the above exception, another exception occurred:\n",
      "\u001b[1;31mTypeError\u001b[0m                                 Traceback (most recent call last)",
      "\u001b[1;32me:\\Users\\giusniyyel\\Documents\\Workspace\\Innovaccion\\KatasDanielLaunchX-Onboarding\\kata_modulo10.ipynb Cell 16'\u001b[0m in \u001b[0;36m<module>\u001b[1;34m\u001b[0m\n\u001b[0;32m     <a href='vscode-notebook-cell:/e%3A/Users/giusniyyel/Documents/Workspace/Innovaccion/KatasDanielLaunchX-Onboarding/kata_modulo10.ipynb#ch0000024?line=13'>14</a>\u001b[0m         \u001b[39mraise\u001b[39;00m \u001b[39mRuntimeError\u001b[39;00m(\u001b[39mf\u001b[39m\u001b[39m\"\u001b[39m\u001b[39mNo habrá suficiente agua para \u001b[39m\u001b[39m{\u001b[39;00mastronauts\u001b[39m}\u001b[39;00m\u001b[39m astronautas después de \u001b[39m\u001b[39m{\u001b[39;00mdays_left\u001b[39m}\u001b[39;00m\u001b[39m días!\u001b[39m\u001b[39m\"\u001b[39m)\n\u001b[0;32m     <a href='vscode-notebook-cell:/e%3A/Users/giusniyyel/Documents/Workspace/Innovaccion/KatasDanielLaunchX-Onboarding/kata_modulo10.ipynb#ch0000024?line=14'>15</a>\u001b[0m     \u001b[39mreturn\u001b[39;00m \u001b[39mf\u001b[39m\u001b[39m\"\u001b[39m\u001b[39mEl total de agua restante después de \u001b[39m\u001b[39m{\u001b[39;00mdays_left\u001b[39m}\u001b[39;00m\u001b[39m días es de: \u001b[39m\u001b[39m{\u001b[39;00mtotal_water_left\u001b[39m}\u001b[39;00m\u001b[39m litros\u001b[39m\u001b[39m\"\u001b[39m\n\u001b[1;32m---> <a href='vscode-notebook-cell:/e%3A/Users/giusniyyel/Documents/Workspace/Innovaccion/KatasDanielLaunchX-Onboarding/kata_modulo10.ipynb#ch0000024?line=16'>17</a>\u001b[0m water_left(\u001b[39m\"\u001b[39;49m\u001b[39m3\u001b[39;49m\u001b[39m\"\u001b[39;49m, \u001b[39m\"\u001b[39;49m\u001b[39m200\u001b[39;49m\u001b[39m\"\u001b[39;49m, \u001b[39mNone\u001b[39;49;00m)\n",
      "\u001b[1;32me:\\Users\\giusniyyel\\Documents\\Workspace\\Innovaccion\\KatasDanielLaunchX-Onboarding\\kata_modulo10.ipynb Cell 16'\u001b[0m in \u001b[0;36mwater_left\u001b[1;34m(astronauts, water_left, days_left)\u001b[0m\n\u001b[0;32m      <a href='vscode-notebook-cell:/e%3A/Users/giusniyyel/Documents/Workspace/Innovaccion/KatasDanielLaunchX-Onboarding/kata_modulo10.ipynb#ch0000024?line=4'>5</a>\u001b[0m         argument \u001b[39m/\u001b[39m \u001b[39m10\u001b[39m\n\u001b[0;32m      <a href='vscode-notebook-cell:/e%3A/Users/giusniyyel/Documents/Workspace/Innovaccion/KatasDanielLaunchX-Onboarding/kata_modulo10.ipynb#ch0000024?line=5'>6</a>\u001b[0m     \u001b[39mexcept\u001b[39;00m \u001b[39mTypeError\u001b[39;00m:\n\u001b[0;32m      <a href='vscode-notebook-cell:/e%3A/Users/giusniyyel/Documents/Workspace/Innovaccion/KatasDanielLaunchX-Onboarding/kata_modulo10.ipynb#ch0000024?line=6'>7</a>\u001b[0m         \u001b[39m# TypError will be raised only if it isn't the right type \u001b[39;00m\n\u001b[0;32m      <a href='vscode-notebook-cell:/e%3A/Users/giusniyyel/Documents/Workspace/Innovaccion/KatasDanielLaunchX-Onboarding/kata_modulo10.ipynb#ch0000024?line=7'>8</a>\u001b[0m         \u001b[39m# Raise the same exception but with a better error message\u001b[39;00m\n\u001b[1;32m----> <a href='vscode-notebook-cell:/e%3A/Users/giusniyyel/Documents/Workspace/Innovaccion/KatasDanielLaunchX-Onboarding/kata_modulo10.ipynb#ch0000024?line=8'>9</a>\u001b[0m         \u001b[39mraise\u001b[39;00m \u001b[39mTypeError\u001b[39;00m(\u001b[39mf\u001b[39m\u001b[39m\"\u001b[39m\u001b[39mTodos los argumentos deben ser enteros, pero se recibió: \u001b[39m\u001b[39m'\u001b[39m\u001b[39m{\u001b[39;00margument\u001b[39m}\u001b[39;00m\u001b[39m'\u001b[39m\u001b[39m\"\u001b[39m)\n\u001b[0;32m     <a href='vscode-notebook-cell:/e%3A/Users/giusniyyel/Documents/Workspace/Innovaccion/KatasDanielLaunchX-Onboarding/kata_modulo10.ipynb#ch0000024?line=9'>10</a>\u001b[0m daily_usage \u001b[39m=\u001b[39m astronauts \u001b[39m*\u001b[39m \u001b[39m11\u001b[39m\n\u001b[0;32m     <a href='vscode-notebook-cell:/e%3A/Users/giusniyyel/Documents/Workspace/Innovaccion/KatasDanielLaunchX-Onboarding/kata_modulo10.ipynb#ch0000024?line=10'>11</a>\u001b[0m total_usage \u001b[39m=\u001b[39m daily_usage \u001b[39m*\u001b[39m days_left\n",
      "\u001b[1;31mTypeError\u001b[0m: Todos los argumentos deben ser enteros, pero se recibió: '3'"
     ]
    }
   ],
   "source": [
    "def water_left(astronauts, water_left, days_left):\n",
    "    for argument in [astronauts, water_left, days_left]:\n",
    "        try:\n",
    "            # If argument is an int, the following operation will work\n",
    "            argument / 10\n",
    "        except TypeError:\n",
    "            # TypError will be raised only if it isn't the right type \n",
    "            # Raise the same exception but with a better error message\n",
    "            raise TypeError(f\"Todos los argumentos deben ser enteros, pero se recibió: '{argument}'\")\n",
    "    daily_usage = astronauts * 11\n",
    "    total_usage = daily_usage * days_left\n",
    "    total_water_left = water_left - total_usage\n",
    "    if total_water_left < 0:\n",
    "        raise RuntimeError(f\"No habrá suficiente agua para {astronauts} astronautas después de {days_left} días!\")\n",
    "    return f\"El total de agua restante después de {days_left} días es de: {total_water_left} litros\"\n",
    "\n",
    "water_left(\"3\", \"200\", None)"
   ]
  },
  {
   "cell_type": "markdown",
   "metadata": {},
   "source": [
    "Curso Propedéutico de Python para Launch X - Innovacción Virtual.\n",
    "\n",
    "**Explorer**: [Daniel Campos](https://www.github.com/giusniyyel)"
   ]
  }
 ],
 "metadata": {
  "interpreter": {
   "hash": "58c3f652f237fbc423a80f95d0100ee675845b28e6512ae35f5a44d14567e6cb"
  },
  "kernelspec": {
   "display_name": "Python 3.10.1 64-bit",
   "language": "python",
   "name": "python3"
  },
  "language_info": {
   "codemirror_mode": {
    "name": "ipython",
    "version": 3
   },
   "file_extension": ".py",
   "mimetype": "text/x-python",
   "name": "python",
   "nbconvert_exporter": "python",
   "pygments_lexer": "ipython3",
   "version": "3.10.1"
  },
  "orig_nbformat": 4
 },
 "nbformat": 4,
 "nbformat_minor": 2
}
