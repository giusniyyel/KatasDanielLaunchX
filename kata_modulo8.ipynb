{
 "cells": [
  {
   "cell_type": "markdown",
   "metadata": {},
   "source": [
    "# Ejercicio 1: Creación de diccionarios de Python\n",
    "\n",
    "Crear un diccionario que almacene información sobre el planeta Marte."
   ]
  },
  {
   "cell_type": "code",
   "execution_count": 16,
   "metadata": {},
   "outputs": [
    {
     "name": "stdout",
     "output_type": "stream",
     "text": [
      "El planeta es Mars y tiene 2 lunas\n",
      "\n",
      "El planeta Mars tiene una circunferencia polar de 6752\n",
      "y una circunferencia equatorial de 6792\n",
      "\n"
     ]
    }
   ],
   "source": [
    "# Crea un diccionario llamado planet con los datos propuestos\n",
    "planet = {\n",
    "    'name': 'Mars',\n",
    "    'moons': '2'\n",
    "}\n",
    "\n",
    "# Muestra el nombre del planeta y el número de lunas que tiene usando get o corchetes.\n",
    "print('El planeta es', planet.get('name'), 'y tiene', planet['moons'], 'lunas')\n",
    "\n",
    "# Agrega la clave circunferencia con los datos proporcionados previamente\n",
    "# Se agregará [polar: 6752, equatorial: 6792]\n",
    "planet['circunferencia (km)'] = {\n",
    "    'polar': '6752',\n",
    "    'equatorial': '6792'\n",
    "}\n",
    "\n",
    "# Imprime el nombre del planeta con su circunferencia polar.\n",
    "text = f\"\"\"\n",
    "El planeta {planet['name']} tiene una circunferencia polar de {planet['circunferencia (km)']['polar']}\n",
    "y una circunferencia equatorial de {planet['circunferencia (km)']['equatorial']}\n",
    "\"\"\"\n",
    "\n",
    "print(text)"
   ]
  },
  {
   "cell_type": "markdown",
   "metadata": {},
   "source": [
    "# Ejercicio 2: Programación dinámica con diccionarios\n",
    "\n",
    "Calcular el número total de lunas en el sistema solar como el número promedio de lunas que tiene un planeta."
   ]
  },
  {
   "cell_type": "code",
   "execution_count": 17,
   "metadata": {},
   "outputs": [
    {
     "name": "stdout",
     "output_type": "stream",
     "text": [
      "En total son 214 lunas\n",
      "En promedio son 17.833333333333332 lunas\n"
     ]
    }
   ],
   "source": [
    "# Planets and moons\n",
    "planet_moons = {\n",
    "    'mercury': 0,\n",
    "    'venus': 0,\n",
    "    'earth': 1,\n",
    "    'mars': 2,\n",
    "    'jupiter': 79,\n",
    "    'saturn': 82,\n",
    "    'uranus': 27,\n",
    "    'neptune': 14,\n",
    "    'pluto': 5,\n",
    "    'haumea': 2,\n",
    "    'makemake': 1,\n",
    "    'eris': 1\n",
    "}\n",
    "\n",
    "# Variables moons(values) y planets(keys)\n",
    "moons = planet_moons.values()\n",
    "planets = len(planet_moons.keys())\n",
    "\n",
    "# Añade el código para determinar el número de lunas.\n",
    "total_moons = 0\n",
    "for moon in moons:\n",
    "    total_moons += moon\n",
    "\n",
    "# Obtener promedio de lunas\n",
    "moons_average = total_moons / planets\n",
    "\n",
    "# Imprime los resultados\n",
    "print('En total son', total_moons, 'lunas')\n",
    "print('En promedio son', moons_average, 'lunas')"
   ]
  },
  {
   "cell_type": "markdown",
   "metadata": {},
   "source": [
    "Curso Propedéutico de Python para Launch X - Innovacción Virtual.\n",
    "\n",
    "**Explorer**: [Daniel Campos](https://www.github.com/giusniyyel)"
   ]
  }
 ],
 "metadata": {
  "interpreter": {
   "hash": "58c3f652f237fbc423a80f95d0100ee675845b28e6512ae35f5a44d14567e6cb"
  },
  "kernelspec": {
   "display_name": "Python 3.10.1 64-bit",
   "language": "python",
   "name": "python3"
  },
  "language_info": {
   "codemirror_mode": {
    "name": "ipython",
    "version": 3
   },
   "file_extension": ".py",
   "mimetype": "text/x-python",
   "name": "python",
   "nbconvert_exporter": "python",
   "pygments_lexer": "ipython3",
   "version": "3.10.1"
  },
  "orig_nbformat": 4
 },
 "nbformat": 4,
 "nbformat_minor": 2
}
