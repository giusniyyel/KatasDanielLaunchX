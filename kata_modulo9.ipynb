{
 "cells": [
  {
   "cell_type": "markdown",
   "metadata": {},
   "source": [
    "# Haciendo uso de funciones en Python\n",
    "\n",
    "## Ejercicio 1: Trabajar con argumentos en funciones\n",
    "\n",
    "Construir un informe de combustible de varias ubicaciones de combustible en todo el cohete."
   ]
  },
  {
   "cell_type": "code",
   "execution_count": 2,
   "metadata": {},
   "outputs": [
    {
     "name": "stdout",
     "output_type": "stream",
     "text": [
      "Fuel Report:\n",
      "    Promedio de combustible: 78.33333333333333%\n",
      "    Tanque 1: 80%\n",
      "    Tanque 2: 70%\n",
      "    Tanque 3: 85%\n",
      "    \n"
     ]
    }
   ],
   "source": [
    "# Función para obtener el promedio de combustible\n",
    "def combustible_average(tank1, tank2, tank3):\n",
    "    return (tank1 + tank2 + tank3) / 3\n",
    "\n",
    "# Función para leer 3 tanques de combustible y muestre el promedio\n",
    "def combustible_report(tank1, tank2, tank3):\n",
    "    return f\"\"\"Fuel Report:\n",
    "    Promedio de combustible: {combustible_average(tank1, tank2, tank3)}%\n",
    "    Tanque 1: {tank1}%\n",
    "    Tanque 2: {tank2}%\n",
    "    Tanque 3: {tank3}%\n",
    "    \"\"\"\n",
    "\n",
    "# Llamamos a la función que genera el reporte print(funcion(tanque1, tanque2, tanque3))\n",
    "print(combustible_report(80, 70, 85))"
   ]
  },
  {
   "cell_type": "markdown",
   "metadata": {},
   "source": [
    "## Ejercicio 2: Trabajo con argumentos de palabra clave en funciones\n",
    "\n",
    "Construir un informe de cohete que requiere varias piezas de información:\n",
    "- Tiempo hasta el destino\n",
    "- El combustible a la izquierda\n",
    "- El combustible a la derecha\n",
    "- Nombre de destino"
   ]
  },
  {
   "cell_type": "code",
   "execution_count": 13,
   "metadata": {},
   "outputs": [
    {
     "name": "stdout",
     "output_type": "stream",
     "text": [
      "Misión a La Luna\n",
      "    Tiempo de viaje: 65 minutos\n",
      "    Combustible disponible: 500000 galones\n",
      "    \n",
      "Misión a La Luna\n",
      "    Tiempo de viaje: 76 minutos\n",
      "    Combustible disponible: 500000 galones\n",
      "    \n",
      "Misión a La Luna\n",
      "    Tiempo de viaje: 76 minutos\n",
      "    Combustible disponible: 500000 galones\n",
      "    \tmain Tanque --> 300000 galones restantes\n",
      "\texternal Tanque --> 200000 galones restantes\n",
      "\n"
     ]
    }
   ],
   "source": [
    "# Función con un informe preciso de la misión. Considera hora de pre-lanzamiento, \n",
    "# tiempo de vuelo, destino, tanque externo y tanque interno\n",
    "def mission_report(pre_launch_time, flight_time, destination, external_tank, internal_tank):\n",
    "    return f\"\"\"Misión a {destination}\n",
    "    Tiempo de viaje: {pre_launch_time + flight_time} minutos\n",
    "    Combustible disponible: {external_tank + internal_tank} galones\n",
    "    \"\"\"\n",
    "\n",
    "print(mission_report(14, 51, \"La Luna\", 200000, 300000))\n",
    "\n",
    "# Escribe tu nueva función de reporte considerando lo anterior\n",
    "def better_mission_report(destination, *minutes, **fuel_reserves):\n",
    "    return f\"\"\"Misión a {destination}\n",
    "    Tiempo de viaje: {sum(minutes)} minutos\n",
    "    Combustible disponible: {sum(fuel_reserves.values())} galones\n",
    "    \"\"\"\n",
    "\n",
    "print(better_mission_report(\"La Luna\", 10, 15, 51, main=300000, external=200000))\n",
    "\n",
    "# Escribe tu nueva función\n",
    "def mission_report_especific(destination, *minutes, **fuel_reserves):\n",
    "    main_report = f\"\"\"Misión a {destination}\n",
    "    Tiempo de viaje: {sum(minutes)} minutos\n",
    "    Combustible disponible: {sum(fuel_reserves.values())} galones\n",
    "    \"\"\"\n",
    "    for tank_name, fuel in fuel_reserves.items():\n",
    "        main_report += f\"\\t{tank_name} Tanque --> {fuel} galones restantes\\n\"\n",
    "    return main_report\n",
    "\n",
    "\n",
    "print(mission_report_especific(\"La Luna\", 10, 15, 51, main=300000, external=200000))"
   ]
  },
  {
   "cell_type": "markdown",
   "metadata": {},
   "source": [
    "Curso Propedéutico de Python para Launch X - Innovacción Virtual.\n",
    "\n",
    "**Explorer**: [Daniel Campos](https://www.github.com/giusniyyel)"
   ]
  }
 ],
 "metadata": {
  "interpreter": {
   "hash": "58c3f652f237fbc423a80f95d0100ee675845b28e6512ae35f5a44d14567e6cb"
  },
  "kernelspec": {
   "display_name": "Python 3.10.1 64-bit",
   "language": "python",
   "name": "python3"
  },
  "language_info": {
   "codemirror_mode": {
    "name": "ipython",
    "version": 3
   },
   "file_extension": ".py",
   "mimetype": "text/x-python",
   "name": "python",
   "nbconvert_exporter": "python",
   "pygments_lexer": "ipython3",
   "version": "3.10.1"
  },
  "orig_nbformat": 4
 },
 "nbformat": 4,
 "nbformat_minor": 2
}
