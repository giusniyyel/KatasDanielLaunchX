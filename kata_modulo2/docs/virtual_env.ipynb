{
 "cells": [
  {
   "cell_type": "markdown",
   "metadata": {},
   "source": [
    "```bash\n",
    "# Crear un entorno virtual en Pythonv3+\n",
    "python3 -m venv env            \n",
    "python -m venv env              # En caso de usar python 3 por default\n",
    "\n",
    "# Activar el entorno virtual\n",
    "source env/bin/activate         # Para sistemas Unix (Linux \\ Mac)\n",
    "env/Scripts/activate            # Para Windows\n",
    "\n",
    "# Después de usar el entorno virtual, sólo debe usar\n",
    "deactivate\n",
    "```"
   ]
  }
 ],
 "metadata": {
  "language_info": {
   "name": "python"
  },
  "orig_nbformat": 4
 },
 "nbformat": 4,
 "nbformat_minor": 2
}
